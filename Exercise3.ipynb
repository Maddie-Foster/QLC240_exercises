{
  "nbformat": 4,
  "nbformat_minor": 0,
  "metadata": {
    "colab": {
      "provenance": [],
      "authorship_tag": "ABX9TyM0fFIsFWYSj3SpUTkxjxZ1",
      "include_colab_link": true
    },
    "kernelspec": {
      "name": "python3",
      "display_name": "Python 3"
    },
    "language_info": {
      "name": "python"
    }
  },
  "cells": [
    {
      "cell_type": "markdown",
      "metadata": {
        "id": "view-in-github",
        "colab_type": "text"
      },
      "source": [
        "<a href=\"https://colab.research.google.com/github/Maddie-Foster/QLC240_exercises/blob/main/Exercise3.ipynb\" target=\"_parent\"><img src=\"https://colab.research.google.com/assets/colab-badge.svg\" alt=\"Open In Colab\"/></a>"
      ]
    },
    {
      "cell_type": "markdown",
      "source": [
        "Random Number Generator:\n",
        "\n",
        "This project was designed to create a random number generator to return a number within the range of 0 to 100,000.\n",
        "We had to import packages like \"import random.\"\n",
        "\n",
        "Random List (Names):\n",
        "\n",
        "We used a python function to randomize a list of names of people in our class.\n",
        "\n",
        "Exercise 1:\n",
        "\n",
        "In this project we imported many packages, including files from google.colab and sklearn.datasets. We also plotted data in several different forms including a histogram, pair plot, box plot, and scatter plot.\n",
        "\n",
        "Exercise 2:\n",
        "\n",
        "We imported packages and used python to load a dataframe. We used colab to plot the data as a histogram, a pair plot and a scatter plot. We also used python to edit the graphs and change features such as the title, the legend, the font and axis labels, and plotting only one series.\n",
        "\n"
      ],
      "metadata": {
        "id": "cEGMyhn_6rDU"
      }
    }
  ]
}